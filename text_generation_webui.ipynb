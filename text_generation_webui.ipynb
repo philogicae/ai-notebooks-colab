{
  "cells": [
    {
      "attachments": {},
      "cell_type": "markdown",
      "metadata": {
        "id": "view-in-github"
      },
      "source": [
        "[![Open In Colab](https://colab.research.google.com/assets/colab-badge.svg)](https://colab.research.google.com/github/philogicae/ai-notebooks-colab/blob/master/text_generation_webui.ipynb)"
      ]
    },
    {
      "attachments": {},
      "cell_type": "markdown",
      "metadata": {},
      "source": [
        "# **Text Generation WebUI Colab by [Philogicae](https://github.com/philogicae)**"
      ]
    },
    {
      "cell_type": "code",
      "execution_count": null,
      "metadata": {},
      "outputs": [],
      "source": [
        "#@markdown **Run this block to launch the notebook**\n",
        "%cd /content\n",
        "!apt-get -y install -qq aria2\n",
        "\n",
        "!git clone -b v1.0 https://github.com/camenduru/text-generation-webui\n",
        "%cd /content/text-generation-webui\n",
        "!pip install -r requirements.txt\n",
        "\n",
        "!mkdir /content/text-generation-webui/repositories\n",
        "%cd /content/text-generation-webui/repositories\n",
        "!git clone -b v1.0 https://github.com/camenduru/GPTQ-for-LLaMa.git\n",
        "%cd GPTQ-for-LLaMa\n",
        "!python setup_cuda.py install\n",
        "\n",
        "!aria2c --console-log-level=error -c -x 16 -s 16 -k 1M https://huggingface.co/4bit/gpt4-x-alpaca-13b-native-4bit-128g-cuda/raw/main/config.json -d /content/text-generation-webui/models/gpt4-x-alpaca-13b-native-4bit-128g -o config.json\n",
        "!aria2c --console-log-level=error -c -x 16 -s 16 -k 1M https://huggingface.co/4bit/gpt4-x-alpaca-13b-native-4bit-128g-cuda/raw/main/generation_config.json -d /content/text-generation-webui/models/gpt4-x-alpaca-13b-native-4bit-128g -o generation_config.json\n",
        "!aria2c --console-log-level=error -c -x 16 -s 16 -k 1M https://huggingface.co/4bit/gpt4-x-alpaca-13b-native-4bit-128g-cuda/raw/main/special_tokens_map.json -d /content/text-generation-webui/models/gpt4-x-alpaca-13b-native-4bit-128g -o special_tokens_map.json\n",
        "!aria2c --console-log-level=error -c -x 16 -s 16 -k 1M https://huggingface.co/4bit/gpt4-x-alpaca-13b-native-4bit-128g-cuda/resolve/main/tokenizer.model -d /content/text-generation-webui/models/gpt4-x-alpaca-13b-native-4bit-128g -o tokenizer.model\n",
        "!aria2c --console-log-level=error -c -x 16 -s 16 -k 1M https://huggingface.co/4bit/gpt4-x-alpaca-13b-native-4bit-128g-cuda/raw/main/tokenizer_config.json -d /content/text-generation-webui/models/gpt4-x-alpaca-13b-native-4bit-128g -o tokenizer_config.json\n",
        "!aria2c --console-log-level=error -c -x 16 -s 16 -k 1M https://huggingface.co/4bit/gpt4-x-alpaca-13b-native-4bit-128g-cuda/resolve/main/4bit-128g.safetensors -d /content/text-generation-webui/models/gpt4-x-alpaca-13b-native-4bit-128g -o 4bit-128g.safetensors\n",
        "\n",
        "%cd /content/text-generation-webui/characters\n",
        "!wget https://bafybeigo2a6ar6uti5u7yok3wyiq7eukxevafrvbbur7iza7wsqlz32nz4.ipfs.w3s.link/EVAI.yaml\n",
        "!wget https://bafybeia3crpj6nes3burmzmu25v7lvokw7jfkpxanajtqgbn7del2stdjq.ipfs.w3s.link/EVAI.png\n",
        "\n",
        "%cd /content/text-generation-webui\n",
        "!python server.py --share --chat --wbits 4 --groupsize 128"
      ]
    }
  ],
  "metadata": {
    "accelerator": "GPU",
    "colab": {
      "provenance": []
    },
    "gpuClass": "standard",
    "kernelspec": {
      "display_name": "Python 3",
      "name": "python3"
    },
    "language_info": {
      "name": "python"
    }
  },
  "nbformat": 4,
  "nbformat_minor": 0
}
