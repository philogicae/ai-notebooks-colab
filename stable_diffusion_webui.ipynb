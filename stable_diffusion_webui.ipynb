{
  "cells": [
    {
      "cell_type": "markdown",
      "metadata": {
        "id": "UXxmQBp0r1cr"
      },
      "source": [
        "### Stable Diffusion WebUI Colab by @Philogicae\n",
        "To use it with Photoshop, follow: https://github.com/isekaidev/stable.art#how-to-install"
      ]
    },
    {
      "cell_type": "code",
      "execution_count": null,
      "metadata": {
        "id": "SaAJk33ppFw1"
      },
      "outputs": [],
      "source": [
        "import os\n",
        "from google.colab import drive\n",
        "drive_path = \"/content/drive\"\n",
        "data_dir = \"/content/drive/MyDrive/stable-diffusion\"\n",
        "sd_dir = \"/content/stable-diffusion-webui\"\n",
        "\n",
        "# Mount Google Drive\n",
        "if not os.path.exists(drive_path):\n",
        "    try:\n",
        "        drive.mount(drive_path, force_remount=True)\n",
        "        os.makedirs(data_dir, exist_ok=True)\n",
        "    except:\n",
        "        raise(\"Error mounting drive or with path variables\")\n",
        "\n",
        "# Requirements\n",
        "%pip install -q https://github.com/camenduru/stable-diffusion-webui-colab/releases/download/0.0.16/xformers-0.0.16+814314d.d20230118-cp38-cp38-linux_x86_64.whl\n",
        "%pip install -q --pre triton\n",
        "!git clone https://github.com/AUTOMATIC1111/stable-diffusion-webui.git\n",
        "\n",
        "# Extensions\n",
        "%cd {sd_dir}/extensions\n",
        "!git clone https://github.com/yfszzx/stable-diffusion-webui-images-browser.git\n",
        "!git clone https://github.com/imrayya/stable-diffusion-webui-Prompt_Generator.git\n",
        "!git clone https://github.com/philogicae/sd-civitai-browser.git\n",
        "!git clone https://github.com/zero01101/openOutpaint-webUI-extension.git\n",
        "!git clone https://github.com/deforum-art/deforum-for-automatic1111-webui.git\n",
        "\n",
        "# Scripts\n",
        "%cd {sd_dir}/scripts\n",
        "!wget https://raw.githubusercontent.com/camenduru/stable-diffusion-webui-scripts/main/run_n_times.py\n",
        "\n",
        "# Embeddings\n",
        "%cd {sd_dir}/embeddings\n",
        "!wget https://huggingface.co/joachimsallstrom/Double-Exposure-Embedding/resolve/main/dblx.pt\n",
        "\n",
        "# Outputs / Config -> Saved to Google Drive\n",
        "%cd {sd_dir}\n",
        "output_path = f\"{data_dir}/outputs\"\n",
        "os.makedirs(output_path, exist_ok=True)\n",
        "!rm -Rf outputs && ln -s {output_path} outputs\n",
        "\n",
        "config_path = f\"{data_dir}/config\"\n",
        "os.makedirs(config_path, exist_ok=True)\n",
        "for filename in [\"config.json\", \"ui-config.json\", \"styles.csv\", \"artists.csv\"]:\n",
        "    filepath = f\"{config_path}/{filename}\"\n",
        "    if not os.path.exists(filepath):\n",
        "        if filename.endswith(\".json\"):\n",
        "            with open(filepath, mode=\"w\") as f:\n",
        "                f.write(\"{}\")\n",
        "        else:\n",
        "            !touch {config_path}/{filename}\n",
        "    !rm -f {filename} && ln -s {config_path}/{filename} {filename}\n",
        "\n",
        "# Default Models (Uncomment to use)\n",
        "%cd {sd_dir}/models/Stable-diffusion\n",
        "## Stable-diffusion 2.1\n",
        "!wget https://huggingface.co/stabilityai/stable-diffusion-2-1/resolve/main/v2-1_768-ema-pruned.safetensors\n",
        "!wget https://huggingface.co/webui/stable-diffusion-2-1/raw/main/v2-1_768-ema-pruned.yaml\n",
        "## Stable-diffusion inpainting\n",
        "#!wget https://huggingface.co/stabilityai/stable-diffusion-2-inpainting/blob/main/512-inpainting-ema.safetensors\n",
        "#!wget https://huggingface.co/webui/stable-diffusion-2-inpainting/raw/main/512-inpainting-ema.yaml\n",
        "## Stable-diffusion upscaler\n",
        "#!wget https://huggingface.co/stabilityai/stable-diffusion-x4-upscaler/blob/main/x4-upscaler-ema.safetensors\n",
        "#!wget https://raw.githubusercontent.com/Stability-AI/stablediffusion/main/configs/stable-diffusion/v2-inference.yaml -O x4-upscaler-ema.yaml\n",
        "## Instruct-pix2pix\n",
        "#!wget https://huggingface.co/timbrooks/instruct-pix2pix/blob/main/instruct-pix2pix-00-22000.safetensors\n",
        "\n",
        "# Load Saved Models (From GoogleDrive/stable-diffusion/models)\n",
        "models_path = f\"{data_dir}/models\"\n",
        "os.makedirs(models_path, exist_ok=True)\n",
        "for filename in os.listdir(models_path):\n",
        "    !ln -s {models_path}/{filename} {filename}\n",
        "\n",
        "# Launch\n",
        "%cd {sd_dir}\n",
        "!python launch.py --theme dark --share --xformers --medvram --api"
      ]
    }
  ],
  "metadata": {
    "accelerator": "GPU",
    "colab": {
      "private_outputs": true,
      "provenance": []
    },
    "gpuClass": "standard",
    "kernelspec": {
      "display_name": "Python 3",
      "name": "python3"
    },
    "language_info": {
      "name": "python"
    }
  },
  "nbformat": 4,
  "nbformat_minor": 0
}